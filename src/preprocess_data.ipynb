{
 "cells": [
  {
   "cell_type": "code",
   "execution_count": 6,
   "metadata": {},
   "outputs": [],
   "source": [
    "import pandas as pd\n",
    "import numpy as np\n",
    "import os\n",
    "\n",
    "BASE_DIR = os.getcwd()\n",
    "CLEANED_DIR = os.path.join(BASE_DIR, \"../data/cleaned\")\n",
    "PREPROCESSED_DIR = os.path.join(BASE_DIR, \"../data/preprocessed\")\n"
   ]
  },
  {
   "cell_type": "code",
   "execution_count": 7,
   "metadata": {},
   "outputs": [],
   "source": [
    "def preprocess_data(file_path):\n",
    "    \"\"\"\n",
    "    Preprocesses the dataset by:\n",
    "    - Filling missing values.\n",
    "    - Encoding categorical variables.\n",
    "    - Normalizing numerical data.\n",
    "    \n",
    "    Parameters:\n",
    "        file_path (str): Path to the cleaned CSV file.\n",
    "    \n",
    "    Returns:\n",
    "        pd.DataFrame: Preprocessed DataFrame.\n",
    "    \"\"\"\n",
    "    df = pd.read_csv(file_path, delimiter=\",\")\n",
    "    \n",
    "    numerical_cols = df.select_dtypes(include=[np.number]).columns\n",
    "    categorical_cols = df.select_dtypes(exclude=[np.number]).columns\n",
    "    \n",
    "    print(f\"🔹 Processing {file_path}...\")\n",
    "    print(f\"Numerical columns: {list(numerical_cols)}\")\n",
    "    print(f\"Categorical columns: {list(categorical_cols)}\\n\")\n",
    "    \n",
    "    for col in numerical_cols:\n",
    "        df[col] = df[col].fillna(df[col].median())\n",
    "    \n",
    "    for col in categorical_cols:\n",
    "        if not df[col].mode().empty:\n",
    "            df[col] = df[col].fillna(df[col].mode()[0])\n",
    "        else:\n",
    "            print(f\"⚠️ Warning: No mode found for {col}, leaving NaN values.\")\n",
    "    \n",
    "    for col in numerical_cols:\n",
    "        df[col] = (df[col] - df[col].min()) / (df[col].max() - df[col].min())\n",
    "    \n",
    "    return df"
   ]
  },
  {
   "cell_type": "code",
   "execution_count": 8,
   "metadata": {},
   "outputs": [],
   "source": [
    "def process_datasets(input_dir, output_dir):\n",
    "    \"\"\"\n",
    "    Processes all cleaned datasets in the specified directory.\n",
    "    \"\"\"\n",
    "    os.makedirs(output_dir, exist_ok=True)\n",
    "    \n",
    "    for file_name in os.listdir(input_dir):\n",
    "        file_path = os.path.join(input_dir, file_name)\n",
    "        \n",
    "        if file_name.endswith(\".csv\"):\n",
    "            try:\n",
    "                preprocessed_df = preprocess_data(file_path)\n",
    "                output_file_path = os.path.join(output_dir, f\"preprocessed_{file_name}\")\n",
    "                preprocessed_df.to_csv(output_file_path, index=False, sep=\",\")\n",
    "                print(f\"✅ Saved preprocessed file: {output_file_path}\\n\")\n",
    "            except Exception as e:\n",
    "                print(f\"❌ Error processing {file_name}: {e}\\n\")"
   ]
  },
  {
   "cell_type": "code",
   "execution_count": 9,
   "metadata": {},
   "outputs": [
    {
     "name": "stdout",
     "output_type": "stream",
     "text": [
      "🔹 Processing c:\\Users\\Elite\\Documents\\ocean\\PowerCast The Electricity Price Forecasting Challenge\\PowerCast_v2\\src\\../data/cleaned\\cleaned_Actual_consumption_202301010000_202503050000_Quarterhour.csv...\n",
      "Numerical columns: []\n",
      "Categorical columns: ['Start date', 'End date', 'Total (grid load) [MWh] Original resolutions', 'Residual load [MWh] Original resolutions', 'Hydro pumped storage [MWh] Original resolutions']\n",
      "\n",
      "✅ Saved preprocessed file: c:\\Users\\Elite\\Documents\\ocean\\PowerCast The Electricity Price Forecasting Challenge\\PowerCast_v2\\src\\../data/preprocessed\\preprocessed_cleaned_Actual_consumption_202301010000_202503050000_Quarterhour.csv\n",
      "\n"
     ]
    },
    {
     "name": "stderr",
     "output_type": "stream",
     "text": [
      "C:\\Users\\Elite\\AppData\\Local\\Temp\\ipykernel_23840\\3957871967.py:14: DtypeWarning: Columns (3,7,13) have mixed types. Specify dtype option on import or set low_memory=False.\n",
      "  df = pd.read_csv(file_path, delimiter=\",\")\n"
     ]
    },
    {
     "name": "stdout",
     "output_type": "stream",
     "text": [
      "🔹 Processing c:\\Users\\Elite\\Documents\\ocean\\PowerCast The Electricity Price Forecasting Challenge\\PowerCast_v2\\src\\../data/cleaned\\cleaned_Actual_generation_202301010000_202503050000_Quarterhour.csv...\n",
      "Numerical columns: []\n",
      "Categorical columns: ['Start date', 'End date', 'Biomass [MWh] Original resolutions', 'Hydropower [MWh] Original resolutions', 'Wind offshore [MWh] Original resolutions', 'Wind onshore [MWh] Original resolutions', 'Photovoltaics [MWh] Original resolutions', 'Other renewable [MWh] Original resolutions', 'Nuclear [MWh] Original resolutions', 'Lignite [MWh] Original resolutions', 'Hard coal [MWh] Original resolutions', 'Fossil gas [MWh] Original resolutions', 'Hydro pumped storage [MWh] Original resolutions', 'Other conventional [MWh] Original resolutions']\n",
      "\n",
      "✅ Saved preprocessed file: c:\\Users\\Elite\\Documents\\ocean\\PowerCast The Electricity Price Forecasting Challenge\\PowerCast_v2\\src\\../data/preprocessed\\preprocessed_cleaned_Actual_generation_202301010000_202503050000_Quarterhour.csv\n",
      "\n",
      "🔹 Processing c:\\Users\\Elite\\Documents\\ocean\\PowerCast The Electricity Price Forecasting Challenge\\PowerCast_v2\\src\\../data/cleaned\\cleaned_Automatic_Frequency_Restoration_Reserve_202301010000_202503050000_Quarterhour.csv...\n",
      "Numerical columns: []\n",
      "Categorical columns: ['Start date', 'End date', 'Volume activated (+) [MWh] Original resolutions', 'Volume activated (-) [MWh] Original resolutions', 'Activation price (+) [€/MWh] Original resolutions', 'Activation price (-) [€/MWh] Original resolutions', 'Volume procured (+) [MW] Original resolutions', 'Volume procured (-) [MW] Original resolutions', 'Procurement price (+) [€/MW] Original resolutions', 'Procurement price (-) [€/MW] Original resolutions']\n",
      "\n",
      "✅ Saved preprocessed file: c:\\Users\\Elite\\Documents\\ocean\\PowerCast The Electricity Price Forecasting Challenge\\PowerCast_v2\\src\\../data/preprocessed\\preprocessed_cleaned_Automatic_Frequency_Restoration_Reserve_202301010000_202503050000_Quarterhour.csv\n",
      "\n",
      "🔹 Processing c:\\Users\\Elite\\Documents\\ocean\\PowerCast The Electricity Price Forecasting Challenge\\PowerCast_v2\\src\\../data/cleaned\\cleaned_Balancing_energy_202301010000_202503050000_Quarterhour_Month.csv...\n",
      "Numerical columns: []\n",
      "Categorical columns: ['Start date', 'End date', 'Volume (+) [MWh] Original resolutions', 'Volume (-) [MWh] Original resolutions', 'Price [€/MWh] Original resolutions', 'Net income [€] Original resolutions']\n",
      "\n",
      "✅ Saved preprocessed file: c:\\Users\\Elite\\Documents\\ocean\\PowerCast The Electricity Price Forecasting Challenge\\PowerCast_v2\\src\\../data/preprocessed\\preprocessed_cleaned_Balancing_energy_202301010000_202503050000_Quarterhour_Month.csv\n",
      "\n",
      "🔹 Processing c:\\Users\\Elite\\Documents\\ocean\\PowerCast The Electricity Price Forecasting Challenge\\PowerCast_v2\\src\\../data/cleaned\\cleaned_Costs_of_TSOs__without_costs_of_DSOs__202301010000_202503050000_Month.csv...\n",
      "Numerical columns: []\n",
      "Categorical columns: ['Start date', 'End date', 'Balancing services [€] Original resolutions', 'Network security of the TSOs [€] Original resolutions', 'Countertrading [€] Original resolutions']\n",
      "\n",
      "✅ Saved preprocessed file: c:\\Users\\Elite\\Documents\\ocean\\PowerCast The Electricity Price Forecasting Challenge\\PowerCast_v2\\src\\../data/preprocessed\\preprocessed_cleaned_Costs_of_TSOs__without_costs_of_DSOs__202301010000_202503050000_Month.csv\n",
      "\n"
     ]
    },
    {
     "name": "stderr",
     "output_type": "stream",
     "text": [
      "C:\\Users\\Elite\\AppData\\Local\\Temp\\ipykernel_23840\\3957871967.py:14: DtypeWarning: Columns (5,7,8,9,10,11,12,13,14,15,16,17,19,20,21,22,23,24) have mixed types. Specify dtype option on import or set low_memory=False.\n",
      "  df = pd.read_csv(file_path, delimiter=\",\")\n"
     ]
    },
    {
     "name": "stdout",
     "output_type": "stream",
     "text": [
      "🔹 Processing c:\\Users\\Elite\\Documents\\ocean\\PowerCast The Electricity Price Forecasting Challenge\\PowerCast_v2\\src\\../data/cleaned\\cleaned_Cross-border_physical_flows_202301010000_202503050000_Quarterhour.csv...\n",
      "Numerical columns: []\n",
      "Categorical columns: ['Start date', 'End date', 'Net export [MWh] Original resolutions', 'Netherlands (export) [MWh] Original resolutions', 'Netherlands (import) [MWh] Original resolutions', 'Switzerland (export) [MWh] Original resolutions', 'Switzerland (import) [MWh] Original resolutions', 'Denmark (export) [MWh] Original resolutions', 'Denmark (import) [MWh] Original resolutions', 'Czech Republic (export) [MWh] Original resolutions', 'Czech Republic (import) [MWh] Original resolutions', 'Luxembourg (export) [MWh] Original resolutions', 'Luxembourg (import) [MWh] Original resolutions', 'Sweden (export) [MWh] Original resolutions', 'Sweden (import) [MWh] Original resolutions', 'Austria (export) [MWh] Original resolutions', 'Austria (import) [MWh] Original resolutions', 'France (export) [MWh] Original resolutions', 'France (import) [MWh] Original resolutions', 'Poland (export) [MWh] Original resolutions', 'Poland (import) [MWh] Original resolutions', 'Norway (export) [MWh] Original resolutions', 'Norway (import) [MWh] Original resolutions', 'Belgium (export) [MWh] Original resolutions', 'Belgium (import) [MWh] Original resolutions']\n",
      "\n",
      "✅ Saved preprocessed file: c:\\Users\\Elite\\Documents\\ocean\\PowerCast The Electricity Price Forecasting Challenge\\PowerCast_v2\\src\\../data/preprocessed\\preprocessed_cleaned_Cross-border_physical_flows_202301010000_202503050000_Quarterhour.csv\n",
      "\n",
      "🔹 Processing c:\\Users\\Elite\\Documents\\ocean\\PowerCast The Electricity Price Forecasting Challenge\\PowerCast_v2\\src\\../data/cleaned\\cleaned_Day-ahead_prices_202301010000_202503050000_Hour.csv...\n",
      "Numerical columns: ['Germany/Luxembourg [€/MWh] Original resolutions', '∅ DE/LU neighbours [€/MWh] Original resolutions', 'Belgium [€/MWh] Original resolutions', 'Denmark 1 [€/MWh] Original resolutions', 'Denmark 2 [€/MWh] Original resolutions', 'France [€/MWh] Original resolutions', 'Netherlands [€/MWh] Original resolutions', 'Norway 2 [€/MWh] Original resolutions', 'Austria [€/MWh] Original resolutions', 'Poland [€/MWh] Original resolutions', 'Sweden 4 [€/MWh] Original resolutions', 'Switzerland [€/MWh] Original resolutions', 'Czech Republic [€/MWh] Original resolutions', 'Hungary [€/MWh] Original resolutions']\n",
      "Categorical columns: ['Start date', 'End date', 'DE/AT/LU [€/MWh] Original resolutions', 'Northern Italy [€/MWh] Original resolutions', 'Slovenia [€/MWh] Original resolutions']\n",
      "\n",
      "✅ Saved preprocessed file: c:\\Users\\Elite\\Documents\\ocean\\PowerCast The Electricity Price Forecasting Challenge\\PowerCast_v2\\src\\../data/preprocessed\\preprocessed_cleaned_Day-ahead_prices_202301010000_202503050000_Hour.csv\n",
      "\n",
      "🔹 Processing c:\\Users\\Elite\\Documents\\ocean\\PowerCast The Electricity Price Forecasting Challenge\\PowerCast_v2\\src\\../data/cleaned\\cleaned_Exported_balancing_services_202301010000_202503050000_Quarterhour.csv...\n",
      "Numerical columns: []\n",
      "Categorical columns: ['Start date', 'End date', 'Austria [MWh] Original resolutions']\n",
      "\n",
      "✅ Saved preprocessed file: c:\\Users\\Elite\\Documents\\ocean\\PowerCast The Electricity Price Forecasting Challenge\\PowerCast_v2\\src\\../data/preprocessed\\preprocessed_cleaned_Exported_balancing_services_202301010000_202503050000_Quarterhour.csv\n",
      "\n",
      "🔹 Processing c:\\Users\\Elite\\Documents\\ocean\\PowerCast The Electricity Price Forecasting Challenge\\PowerCast_v2\\src\\../data/cleaned\\cleaned_Forecasted_consumption_202301010000_202503050000_Quarterhour.csv...\n",
      "Numerical columns: []\n",
      "Categorical columns: ['Start date', 'End date', 'Total (grid load) [MWh] Original resolutions', 'Residual load [MWh] Original resolutions']\n",
      "\n",
      "✅ Saved preprocessed file: c:\\Users\\Elite\\Documents\\ocean\\PowerCast The Electricity Price Forecasting Challenge\\PowerCast_v2\\src\\../data/preprocessed\\preprocessed_cleaned_Forecasted_consumption_202301010000_202503050000_Quarterhour.csv\n",
      "\n",
      "🔹 Processing c:\\Users\\Elite\\Documents\\ocean\\PowerCast The Electricity Price Forecasting Challenge\\PowerCast_v2\\src\\../data/cleaned\\cleaned_Forecasted_generation_Day-Ahead_202301010000_202503050000_Hour_Quarterhour.csv...\n",
      "Numerical columns: []\n",
      "Categorical columns: ['Start date', 'End date', 'Total [MWh] Original resolutions', 'Photovoltaics and wind [MWh] Original resolutions', 'Wind offshore [MWh] Original resolutions', 'Wind onshore [MWh] Original resolutions', 'Photovoltaics [MWh] Original resolutions', 'Other [MWh] Original resolutions']\n",
      "\n",
      "✅ Saved preprocessed file: c:\\Users\\Elite\\Documents\\ocean\\PowerCast The Electricity Price Forecasting Challenge\\PowerCast_v2\\src\\../data/preprocessed\\preprocessed_cleaned_Forecasted_generation_Day-Ahead_202301010000_202503050000_Hour_Quarterhour.csv\n",
      "\n",
      "🔹 Processing c:\\Users\\Elite\\Documents\\ocean\\PowerCast The Electricity Price Forecasting Challenge\\PowerCast_v2\\src\\../data/cleaned\\cleaned_Frequency_Containment_Reserve_202301010000_202503050000_Quarterhour.csv...\n",
      "Numerical columns: []\n",
      "Categorical columns: ['Start date', 'End date', 'Volume procured [MW] Original resolutions', 'Procurement price [€/MW] Original resolutions']\n",
      "\n",
      "✅ Saved preprocessed file: c:\\Users\\Elite\\Documents\\ocean\\PowerCast The Electricity Price Forecasting Challenge\\PowerCast_v2\\src\\../data/preprocessed\\preprocessed_cleaned_Frequency_Containment_Reserve_202301010000_202503050000_Quarterhour.csv\n",
      "\n",
      "🔹 Processing c:\\Users\\Elite\\Documents\\ocean\\PowerCast The Electricity Price Forecasting Challenge\\PowerCast_v2\\src\\../data/cleaned\\cleaned_Generation_Forecast_Intraday_202301010000_202503050000_Quarterhour.csv...\n",
      "Numerical columns: []\n",
      "Categorical columns: ['Start date', 'End date', 'Photovoltaics and wind [MWh] Original resolutions', 'Wind offshore [MWh] Original resolutions', 'Wind onshore [MWh] Original resolutions', 'Photovoltaics [MWh] Original resolutions']\n",
      "\n",
      "✅ Saved preprocessed file: c:\\Users\\Elite\\Documents\\ocean\\PowerCast The Electricity Price Forecasting Challenge\\PowerCast_v2\\src\\../data/preprocessed\\preprocessed_cleaned_Generation_Forecast_Intraday_202301010000_202503050000_Quarterhour.csv\n",
      "\n",
      "🔹 Processing c:\\Users\\Elite\\Documents\\ocean\\PowerCast The Electricity Price Forecasting Challenge\\PowerCast_v2\\src\\../data/cleaned\\cleaned_Imported_balancing_services_202301010000_202503050000_Quarterhour.csv...\n",
      "Numerical columns: []\n",
      "Categorical columns: ['Start date', 'End date', 'Austria [MWh] Original resolutions']\n",
      "\n",
      "✅ Saved preprocessed file: c:\\Users\\Elite\\Documents\\ocean\\PowerCast The Electricity Price Forecasting Challenge\\PowerCast_v2\\src\\../data/preprocessed\\preprocessed_cleaned_Imported_balancing_services_202301010000_202503050000_Quarterhour.csv\n",
      "\n",
      "🔹 Processing c:\\Users\\Elite\\Documents\\ocean\\PowerCast The Electricity Price Forecasting Challenge\\PowerCast_v2\\src\\../data/cleaned\\cleaned_Installed_generation_capacity_202301010000_202503050000_Year.csv...\n",
      "Numerical columns: ['Other renewable [MW] Original resolutions']\n",
      "Categorical columns: ['Start date', 'End date', 'Biomass [MW] Original resolutions', 'Hydropower [MW] Original resolutions', 'Wind offshore [MW] Original resolutions', 'Wind onshore [MW] Original resolutions', 'Photovoltaics [MW] Original resolutions', 'Nuclear [MW] Original resolutions', 'Lignite [MW] Original resolutions', 'Hard coal [MW] Original resolutions', 'Fossil gas [MW] Original resolutions', 'Hydro pumped storage [MW] Original resolutions', 'Other conventional [MW] Original resolutions']\n",
      "\n",
      "✅ Saved preprocessed file: c:\\Users\\Elite\\Documents\\ocean\\PowerCast The Electricity Price Forecasting Challenge\\PowerCast_v2\\src\\../data/preprocessed\\preprocessed_cleaned_Installed_generation_capacity_202301010000_202503050000_Year.csv\n",
      "\n",
      "🔹 Processing c:\\Users\\Elite\\Documents\\ocean\\PowerCast The Electricity Price Forecasting Challenge\\PowerCast_v2\\src\\../data/cleaned\\cleaned_Manual_Frequency_Restoration_Reserve_202301010000_202503050000_Quarterhour.csv...\n",
      "Numerical columns: []\n",
      "Categorical columns: ['Start date', 'End date', 'Volume activated (+) [MWh] Original resolutions', 'Volume activated (-) [MWh] Original resolutions', 'Activation price (+) [€/MWh] Original resolutions', 'Activation price (-) [€/MWh] Original resolutions', 'Volume procured (+) [MW] Original resolutions', 'Volume procured (-) [MW] Original resolutions', 'Procurement price (+) [€/MW] Original resolutions', 'Procurement price (-) [€/MW] Original resolutions']\n",
      "\n",
      "✅ Saved preprocessed file: c:\\Users\\Elite\\Documents\\ocean\\PowerCast The Electricity Price Forecasting Challenge\\PowerCast_v2\\src\\../data/preprocessed\\preprocessed_cleaned_Manual_Frequency_Restoration_Reserve_202301010000_202503050000_Quarterhour.csv\n",
      "\n"
     ]
    },
    {
     "name": "stderr",
     "output_type": "stream",
     "text": [
      "C:\\Users\\Elite\\AppData\\Local\\Temp\\ipykernel_23840\\3957871967.py:14: DtypeWarning: Columns (7,8,15) have mixed types. Specify dtype option on import or set low_memory=False.\n",
      "  df = pd.read_csv(file_path, delimiter=\",\")\n"
     ]
    },
    {
     "name": "stdout",
     "output_type": "stream",
     "text": [
      "🔹 Processing c:\\Users\\Elite\\Documents\\ocean\\PowerCast The Electricity Price Forecasting Challenge\\PowerCast_v2\\src\\../data/cleaned\\cleaned_Scheduled_commercial_exchanges_202301010000_202503050000_Quarterhour.csv...\n",
      "Numerical columns: ['Switzerland (export) [MWh] Original resolutions', 'Czech Republic (export) [MWh] Original resolutions', 'Czech Republic (import) [MWh] Original resolutions', 'Luxembourg (export) [MWh] Original resolutions', 'Luxembourg (import) [MWh] Original resolutions', 'Sweden (export) [MWh] Original resolutions', 'Sweden (import) [MWh] Original resolutions', 'Austria (import) [MWh] Original resolutions', 'Poland (export) [MWh] Original resolutions', 'Poland (import) [MWh] Original resolutions', 'Norway (export) [MWh] Original resolutions', 'Norway (import) [MWh] Original resolutions', 'Belgium (export) [MWh] Original resolutions', 'Belgium (import) [MWh] Original resolutions']\n",
      "Categorical columns: ['Start date', 'End date', 'Net export [MWh] Original resolutions', 'Netherlands (export) [MWh] Original resolutions', 'Netherlands (import) [MWh] Original resolutions', 'Switzerland (import) [MWh] Original resolutions', 'Denmark (export) [MWh] Original resolutions', 'Denmark (import) [MWh] Original resolutions', 'Austria (export) [MWh] Original resolutions', 'France (export) [MWh] Original resolutions', 'France (import) [MWh] Original resolutions']\n",
      "\n",
      "✅ Saved preprocessed file: c:\\Users\\Elite\\Documents\\ocean\\PowerCast The Electricity Price Forecasting Challenge\\PowerCast_v2\\src\\../data/preprocessed\\preprocessed_cleaned_Scheduled_commercial_exchanges_202301010000_202503050000_Quarterhour.csv\n",
      "\n"
     ]
    }
   ],
   "source": [
    "def main():\n",
    "    input_dir = CLEANED_DIR\n",
    "    output_dir = PREPROCESSED_DIR\n",
    "    process_datasets(input_dir, output_dir)\n",
    "    \n",
    "if __name__ == \"__main__\":\n",
    "    main()"
   ]
  },
  {
   "cell_type": "code",
   "execution_count": null,
   "metadata": {},
   "outputs": [],
   "source": []
  }
 ],
 "metadata": {
  "kernelspec": {
   "display_name": "venv",
   "language": "python",
   "name": "python3"
  },
  "language_info": {
   "codemirror_mode": {
    "name": "ipython",
    "version": 3
   },
   "file_extension": ".py",
   "mimetype": "text/x-python",
   "name": "python",
   "nbconvert_exporter": "python",
   "pygments_lexer": "ipython3",
   "version": "3.12.4"
  }
 },
 "nbformat": 4,
 "nbformat_minor": 2
}
