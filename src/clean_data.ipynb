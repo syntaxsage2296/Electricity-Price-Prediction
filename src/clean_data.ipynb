{
 "cells": [
  {
   "cell_type": "code",
   "execution_count": 34,
   "metadata": {},
   "outputs": [],
   "source": [
    "import pandas as pd\n",
    "import os\n",
    "\n",
    "BASE_DIR = os.getcwd()\n",
    "RAW_DIR = os.path.join(BASE_DIR, \"../data/raw\")\n",
    "CLEANED_DIR = os.path.join(BASE_DIR, \"../data/cleaned\")\n"
   ]
  },
  {
   "cell_type": "code",
   "execution_count": 35,
   "metadata": {},
   "outputs": [],
   "source": [
    "def clean_data(file_path, datetime_cols=None, delimiter=\";\"):\n",
    "    df = pd.read_csv(file_path, delimiter=delimiter, low_memory=False)\n",
    "    \n",
    "    if datetime_cols is None:\n",
    "        datetime_cols = [col for col in df.columns if \"date\" in col.lower() or \"time\" in col.lower()]\n",
    "    \n",
    "    for col in datetime_cols:\n",
    "        if col in df.columns:\n",
    "            df[col] = pd.to_datetime(df[col], errors=\"coerce\")\n",
    "    \n",
    "    # missing_dates = df[datetime_cols].isna().sum()\n",
    "    # print(f\"⏳ Missing datetime values before cleaning:\\n{missing_dates}\")\n",
    "    \n",
    "    if datetime_cols:\n",
    "        df = df.dropna(subset=datetime_cols, how=\"all\")\n",
    "    \n",
    "    if df.empty:\n",
    "        print(f\"⚠️ Warning: Cleaned dataset is empty after processing {file_path}!\")\n",
    "    \n",
    "    if datetime_cols and not df.empty:\n",
    "        df = df.sort_values(by=datetime_cols[0]).reset_index(drop=True)\n",
    "    \n",
    "    return df"
   ]
  },
  {
   "cell_type": "code",
   "execution_count": 36,
   "metadata": {},
   "outputs": [],
   "source": [
    "\n",
    "\n",
    "def clean_datasets(original_folder=RAW_DIR, cleaned_folder=CLEANED_DIR):\n",
    "    os.makedirs(cleaned_folder, exist_ok=True)\n",
    "    \n",
    "    for file_name in os.listdir(original_folder):\n",
    "        if file_name.endswith(\".csv\"):\n",
    "            original_file_path = os.path.join(original_folder, file_name)\n",
    "            print(f\"🔄 Cleaning {file_name}...\")\n",
    "            \n",
    "            cleaned_df = clean_data(original_file_path)\n",
    "            \n",
    "            if not cleaned_df.empty:\n",
    "                cleaned_file_path = os.path.join(cleaned_folder, f\"cleaned_{file_name}\")\n",
    "                cleaned_df.to_csv(cleaned_file_path, index=False, sep=\",\")\n",
    "                print(f\"✅ Saved cleaned file: {cleaned_file_path}\\n\")\n",
    "            else:\n",
    "                print(f\"⚠️ Skipped saving {file_name} because the cleaned data is empty.\\n\")\n",
    "    \n",
    "    print(\"🎉 All datasets cleaned and saved successfully!\")"
   ]
  },
  {
   "cell_type": "code",
   "execution_count": 37,
   "metadata": {},
   "outputs": [
    {
     "name": "stdout",
     "output_type": "stream",
     "text": [
      "🔄 Cleaning Actual_consumption_202301010000_202503050000_Quarterhour.csv...\n"
     ]
    },
    {
     "name": "stderr",
     "output_type": "stream",
     "text": [
      "C:\\Users\\Elite\\AppData\\Local\\Temp\\ipykernel_17308\\1213865724.py:9: UserWarning: Could not infer format, so each element will be parsed individually, falling back to `dateutil`. To ensure parsing is consistent and as-expected, please specify a format.\n",
      "  df[col] = pd.to_datetime(df[col], errors=\"coerce\")\n",
      "C:\\Users\\Elite\\AppData\\Local\\Temp\\ipykernel_17308\\1213865724.py:9: UserWarning: Could not infer format, so each element will be parsed individually, falling back to `dateutil`. To ensure parsing is consistent and as-expected, please specify a format.\n",
      "  df[col] = pd.to_datetime(df[col], errors=\"coerce\")\n"
     ]
    },
    {
     "name": "stdout",
     "output_type": "stream",
     "text": [
      "✅ Saved cleaned file: c:\\Users\\Elite\\Documents\\ocean\\PowerCast The Electricity Price Forecasting Challenge\\PowerCast_v2\\src\\../data/cleaned\\cleaned_Actual_consumption_202301010000_202503050000_Quarterhour.csv\n",
      "\n",
      "🔄 Cleaning Actual_generation_202301010000_202503050000_Quarterhour.csv...\n"
     ]
    },
    {
     "name": "stderr",
     "output_type": "stream",
     "text": [
      "C:\\Users\\Elite\\AppData\\Local\\Temp\\ipykernel_17308\\1213865724.py:9: UserWarning: Could not infer format, so each element will be parsed individually, falling back to `dateutil`. To ensure parsing is consistent and as-expected, please specify a format.\n",
      "  df[col] = pd.to_datetime(df[col], errors=\"coerce\")\n",
      "C:\\Users\\Elite\\AppData\\Local\\Temp\\ipykernel_17308\\1213865724.py:9: UserWarning: Could not infer format, so each element will be parsed individually, falling back to `dateutil`. To ensure parsing is consistent and as-expected, please specify a format.\n",
      "  df[col] = pd.to_datetime(df[col], errors=\"coerce\")\n"
     ]
    },
    {
     "name": "stdout",
     "output_type": "stream",
     "text": [
      "✅ Saved cleaned file: c:\\Users\\Elite\\Documents\\ocean\\PowerCast The Electricity Price Forecasting Challenge\\PowerCast_v2\\src\\../data/cleaned\\cleaned_Actual_generation_202301010000_202503050000_Quarterhour.csv\n",
      "\n",
      "🔄 Cleaning Automatic_Frequency_Restoration_Reserve_202301010000_202503050000_Quarterhour.csv...\n"
     ]
    },
    {
     "name": "stderr",
     "output_type": "stream",
     "text": [
      "C:\\Users\\Elite\\AppData\\Local\\Temp\\ipykernel_17308\\1213865724.py:9: UserWarning: Could not infer format, so each element will be parsed individually, falling back to `dateutil`. To ensure parsing is consistent and as-expected, please specify a format.\n",
      "  df[col] = pd.to_datetime(df[col], errors=\"coerce\")\n",
      "C:\\Users\\Elite\\AppData\\Local\\Temp\\ipykernel_17308\\1213865724.py:9: UserWarning: Could not infer format, so each element will be parsed individually, falling back to `dateutil`. To ensure parsing is consistent and as-expected, please specify a format.\n",
      "  df[col] = pd.to_datetime(df[col], errors=\"coerce\")\n"
     ]
    },
    {
     "name": "stdout",
     "output_type": "stream",
     "text": [
      "✅ Saved cleaned file: c:\\Users\\Elite\\Documents\\ocean\\PowerCast The Electricity Price Forecasting Challenge\\PowerCast_v2\\src\\../data/cleaned\\cleaned_Automatic_Frequency_Restoration_Reserve_202301010000_202503050000_Quarterhour.csv\n",
      "\n",
      "🔄 Cleaning Balancing_energy_202301010000_202503050000_Quarterhour_Month.csv...\n"
     ]
    },
    {
     "name": "stderr",
     "output_type": "stream",
     "text": [
      "C:\\Users\\Elite\\AppData\\Local\\Temp\\ipykernel_17308\\1213865724.py:9: UserWarning: Could not infer format, so each element will be parsed individually, falling back to `dateutil`. To ensure parsing is consistent and as-expected, please specify a format.\n",
      "  df[col] = pd.to_datetime(df[col], errors=\"coerce\")\n",
      "C:\\Users\\Elite\\AppData\\Local\\Temp\\ipykernel_17308\\1213865724.py:9: UserWarning: Could not infer format, so each element will be parsed individually, falling back to `dateutil`. To ensure parsing is consistent and as-expected, please specify a format.\n",
      "  df[col] = pd.to_datetime(df[col], errors=\"coerce\")\n"
     ]
    },
    {
     "name": "stdout",
     "output_type": "stream",
     "text": [
      "✅ Saved cleaned file: c:\\Users\\Elite\\Documents\\ocean\\PowerCast The Electricity Price Forecasting Challenge\\PowerCast_v2\\src\\../data/cleaned\\cleaned_Balancing_energy_202301010000_202503050000_Quarterhour_Month.csv\n",
      "\n",
      "🔄 Cleaning Costs_of_TSOs__without_costs_of_DSOs__202301010000_202503050000_Month.csv...\n",
      "✅ Saved cleaned file: c:\\Users\\Elite\\Documents\\ocean\\PowerCast The Electricity Price Forecasting Challenge\\PowerCast_v2\\src\\../data/cleaned\\cleaned_Costs_of_TSOs__without_costs_of_DSOs__202301010000_202503050000_Month.csv\n",
      "\n",
      "🔄 Cleaning Cross-border_physical_flows_202301010000_202503050000_Quarterhour.csv...\n"
     ]
    },
    {
     "name": "stderr",
     "output_type": "stream",
     "text": [
      "C:\\Users\\Elite\\AppData\\Local\\Temp\\ipykernel_17308\\1213865724.py:9: UserWarning: Could not infer format, so each element will be parsed individually, falling back to `dateutil`. To ensure parsing is consistent and as-expected, please specify a format.\n",
      "  df[col] = pd.to_datetime(df[col], errors=\"coerce\")\n",
      "C:\\Users\\Elite\\AppData\\Local\\Temp\\ipykernel_17308\\1213865724.py:9: UserWarning: Could not infer format, so each element will be parsed individually, falling back to `dateutil`. To ensure parsing is consistent and as-expected, please specify a format.\n",
      "  df[col] = pd.to_datetime(df[col], errors=\"coerce\")\n"
     ]
    },
    {
     "name": "stdout",
     "output_type": "stream",
     "text": [
      "✅ Saved cleaned file: c:\\Users\\Elite\\Documents\\ocean\\PowerCast The Electricity Price Forecasting Challenge\\PowerCast_v2\\src\\../data/cleaned\\cleaned_Cross-border_physical_flows_202301010000_202503050000_Quarterhour.csv\n",
      "\n",
      "🔄 Cleaning Day-ahead_prices_202301010000_202503050000_Hour.csv...\n"
     ]
    },
    {
     "name": "stderr",
     "output_type": "stream",
     "text": [
      "C:\\Users\\Elite\\AppData\\Local\\Temp\\ipykernel_17308\\1213865724.py:9: UserWarning: Could not infer format, so each element will be parsed individually, falling back to `dateutil`. To ensure parsing is consistent and as-expected, please specify a format.\n",
      "  df[col] = pd.to_datetime(df[col], errors=\"coerce\")\n"
     ]
    },
    {
     "name": "stdout",
     "output_type": "stream",
     "text": [
      "✅ Saved cleaned file: c:\\Users\\Elite\\Documents\\ocean\\PowerCast The Electricity Price Forecasting Challenge\\PowerCast_v2\\src\\../data/cleaned\\cleaned_Day-ahead_prices_202301010000_202503050000_Hour.csv\n",
      "\n",
      "🔄 Cleaning Exported_balancing_services_202301010000_202503050000_Quarterhour.csv...\n"
     ]
    },
    {
     "name": "stderr",
     "output_type": "stream",
     "text": [
      "C:\\Users\\Elite\\AppData\\Local\\Temp\\ipykernel_17308\\1213865724.py:9: UserWarning: Could not infer format, so each element will be parsed individually, falling back to `dateutil`. To ensure parsing is consistent and as-expected, please specify a format.\n",
      "  df[col] = pd.to_datetime(df[col], errors=\"coerce\")\n",
      "C:\\Users\\Elite\\AppData\\Local\\Temp\\ipykernel_17308\\1213865724.py:9: UserWarning: Could not infer format, so each element will be parsed individually, falling back to `dateutil`. To ensure parsing is consistent and as-expected, please specify a format.\n",
      "  df[col] = pd.to_datetime(df[col], errors=\"coerce\")\n"
     ]
    },
    {
     "name": "stdout",
     "output_type": "stream",
     "text": [
      "✅ Saved cleaned file: c:\\Users\\Elite\\Documents\\ocean\\PowerCast The Electricity Price Forecasting Challenge\\PowerCast_v2\\src\\../data/cleaned\\cleaned_Exported_balancing_services_202301010000_202503050000_Quarterhour.csv\n",
      "\n",
      "🔄 Cleaning Forecasted_consumption_202301010000_202503050000_Quarterhour.csv...\n"
     ]
    },
    {
     "name": "stderr",
     "output_type": "stream",
     "text": [
      "C:\\Users\\Elite\\AppData\\Local\\Temp\\ipykernel_17308\\1213865724.py:9: UserWarning: Could not infer format, so each element will be parsed individually, falling back to `dateutil`. To ensure parsing is consistent and as-expected, please specify a format.\n",
      "  df[col] = pd.to_datetime(df[col], errors=\"coerce\")\n",
      "C:\\Users\\Elite\\AppData\\Local\\Temp\\ipykernel_17308\\1213865724.py:9: UserWarning: Could not infer format, so each element will be parsed individually, falling back to `dateutil`. To ensure parsing is consistent and as-expected, please specify a format.\n",
      "  df[col] = pd.to_datetime(df[col], errors=\"coerce\")\n"
     ]
    },
    {
     "name": "stdout",
     "output_type": "stream",
     "text": [
      "✅ Saved cleaned file: c:\\Users\\Elite\\Documents\\ocean\\PowerCast The Electricity Price Forecasting Challenge\\PowerCast_v2\\src\\../data/cleaned\\cleaned_Forecasted_consumption_202301010000_202503050000_Quarterhour.csv\n",
      "\n",
      "🔄 Cleaning Forecasted_generation_Day-Ahead_202301010000_202503050000_Hour_Quarterhour.csv...\n"
     ]
    },
    {
     "name": "stderr",
     "output_type": "stream",
     "text": [
      "C:\\Users\\Elite\\AppData\\Local\\Temp\\ipykernel_17308\\1213865724.py:9: UserWarning: Could not infer format, so each element will be parsed individually, falling back to `dateutil`. To ensure parsing is consistent and as-expected, please specify a format.\n",
      "  df[col] = pd.to_datetime(df[col], errors=\"coerce\")\n",
      "C:\\Users\\Elite\\AppData\\Local\\Temp\\ipykernel_17308\\1213865724.py:9: UserWarning: Could not infer format, so each element will be parsed individually, falling back to `dateutil`. To ensure parsing is consistent and as-expected, please specify a format.\n",
      "  df[col] = pd.to_datetime(df[col], errors=\"coerce\")\n"
     ]
    },
    {
     "name": "stdout",
     "output_type": "stream",
     "text": [
      "✅ Saved cleaned file: c:\\Users\\Elite\\Documents\\ocean\\PowerCast The Electricity Price Forecasting Challenge\\PowerCast_v2\\src\\../data/cleaned\\cleaned_Forecasted_generation_Day-Ahead_202301010000_202503050000_Hour_Quarterhour.csv\n",
      "\n",
      "🔄 Cleaning Frequency_Containment_Reserve_202301010000_202503050000_Quarterhour.csv...\n"
     ]
    },
    {
     "name": "stderr",
     "output_type": "stream",
     "text": [
      "C:\\Users\\Elite\\AppData\\Local\\Temp\\ipykernel_17308\\1213865724.py:9: UserWarning: Could not infer format, so each element will be parsed individually, falling back to `dateutil`. To ensure parsing is consistent and as-expected, please specify a format.\n",
      "  df[col] = pd.to_datetime(df[col], errors=\"coerce\")\n",
      "C:\\Users\\Elite\\AppData\\Local\\Temp\\ipykernel_17308\\1213865724.py:9: UserWarning: Could not infer format, so each element will be parsed individually, falling back to `dateutil`. To ensure parsing is consistent and as-expected, please specify a format.\n",
      "  df[col] = pd.to_datetime(df[col], errors=\"coerce\")\n"
     ]
    },
    {
     "name": "stdout",
     "output_type": "stream",
     "text": [
      "✅ Saved cleaned file: c:\\Users\\Elite\\Documents\\ocean\\PowerCast The Electricity Price Forecasting Challenge\\PowerCast_v2\\src\\../data/cleaned\\cleaned_Frequency_Containment_Reserve_202301010000_202503050000_Quarterhour.csv\n",
      "\n",
      "🔄 Cleaning Generation_Forecast_Intraday_202301010000_202503050000_Quarterhour.csv...\n"
     ]
    },
    {
     "name": "stderr",
     "output_type": "stream",
     "text": [
      "C:\\Users\\Elite\\AppData\\Local\\Temp\\ipykernel_17308\\1213865724.py:9: UserWarning: Could not infer format, so each element will be parsed individually, falling back to `dateutil`. To ensure parsing is consistent and as-expected, please specify a format.\n",
      "  df[col] = pd.to_datetime(df[col], errors=\"coerce\")\n",
      "C:\\Users\\Elite\\AppData\\Local\\Temp\\ipykernel_17308\\1213865724.py:9: UserWarning: Could not infer format, so each element will be parsed individually, falling back to `dateutil`. To ensure parsing is consistent and as-expected, please specify a format.\n",
      "  df[col] = pd.to_datetime(df[col], errors=\"coerce\")\n"
     ]
    },
    {
     "name": "stdout",
     "output_type": "stream",
     "text": [
      "✅ Saved cleaned file: c:\\Users\\Elite\\Documents\\ocean\\PowerCast The Electricity Price Forecasting Challenge\\PowerCast_v2\\src\\../data/cleaned\\cleaned_Generation_Forecast_Intraday_202301010000_202503050000_Quarterhour.csv\n",
      "\n",
      "🔄 Cleaning Imported_balancing_services_202301010000_202503050000_Quarterhour.csv...\n"
     ]
    },
    {
     "name": "stderr",
     "output_type": "stream",
     "text": [
      "C:\\Users\\Elite\\AppData\\Local\\Temp\\ipykernel_17308\\1213865724.py:9: UserWarning: Could not infer format, so each element will be parsed individually, falling back to `dateutil`. To ensure parsing is consistent and as-expected, please specify a format.\n",
      "  df[col] = pd.to_datetime(df[col], errors=\"coerce\")\n",
      "C:\\Users\\Elite\\AppData\\Local\\Temp\\ipykernel_17308\\1213865724.py:9: UserWarning: Could not infer format, so each element will be parsed individually, falling back to `dateutil`. To ensure parsing is consistent and as-expected, please specify a format.\n",
      "  df[col] = pd.to_datetime(df[col], errors=\"coerce\")\n"
     ]
    },
    {
     "name": "stdout",
     "output_type": "stream",
     "text": [
      "✅ Saved cleaned file: c:\\Users\\Elite\\Documents\\ocean\\PowerCast The Electricity Price Forecasting Challenge\\PowerCast_v2\\src\\../data/cleaned\\cleaned_Imported_balancing_services_202301010000_202503050000_Quarterhour.csv\n",
      "\n",
      "🔄 Cleaning Installed_generation_capacity_202301010000_202503050000_Year.csv...\n",
      "✅ Saved cleaned file: c:\\Users\\Elite\\Documents\\ocean\\PowerCast The Electricity Price Forecasting Challenge\\PowerCast_v2\\src\\../data/cleaned\\cleaned_Installed_generation_capacity_202301010000_202503050000_Year.csv\n",
      "\n",
      "🔄 Cleaning Manual_Frequency_Restoration_Reserve_202301010000_202503050000_Quarterhour.csv...\n"
     ]
    },
    {
     "name": "stderr",
     "output_type": "stream",
     "text": [
      "C:\\Users\\Elite\\AppData\\Local\\Temp\\ipykernel_17308\\1213865724.py:9: UserWarning: Could not infer format, so each element will be parsed individually, falling back to `dateutil`. To ensure parsing is consistent and as-expected, please specify a format.\n",
      "  df[col] = pd.to_datetime(df[col], errors=\"coerce\")\n",
      "C:\\Users\\Elite\\AppData\\Local\\Temp\\ipykernel_17308\\1213865724.py:9: UserWarning: Could not infer format, so each element will be parsed individually, falling back to `dateutil`. To ensure parsing is consistent and as-expected, please specify a format.\n",
      "  df[col] = pd.to_datetime(df[col], errors=\"coerce\")\n"
     ]
    },
    {
     "name": "stdout",
     "output_type": "stream",
     "text": [
      "✅ Saved cleaned file: c:\\Users\\Elite\\Documents\\ocean\\PowerCast The Electricity Price Forecasting Challenge\\PowerCast_v2\\src\\../data/cleaned\\cleaned_Manual_Frequency_Restoration_Reserve_202301010000_202503050000_Quarterhour.csv\n",
      "\n",
      "🔄 Cleaning Scheduled_commercial_exchanges_202301010000_202503050000_Quarterhour.csv...\n"
     ]
    },
    {
     "name": "stderr",
     "output_type": "stream",
     "text": [
      "C:\\Users\\Elite\\AppData\\Local\\Temp\\ipykernel_17308\\1213865724.py:9: UserWarning: Could not infer format, so each element will be parsed individually, falling back to `dateutil`. To ensure parsing is consistent and as-expected, please specify a format.\n",
      "  df[col] = pd.to_datetime(df[col], errors=\"coerce\")\n",
      "C:\\Users\\Elite\\AppData\\Local\\Temp\\ipykernel_17308\\1213865724.py:9: UserWarning: Could not infer format, so each element will be parsed individually, falling back to `dateutil`. To ensure parsing is consistent and as-expected, please specify a format.\n",
      "  df[col] = pd.to_datetime(df[col], errors=\"coerce\")\n"
     ]
    },
    {
     "name": "stdout",
     "output_type": "stream",
     "text": [
      "✅ Saved cleaned file: c:\\Users\\Elite\\Documents\\ocean\\PowerCast The Electricity Price Forecasting Challenge\\PowerCast_v2\\src\\../data/cleaned\\cleaned_Scheduled_commercial_exchanges_202301010000_202503050000_Quarterhour.csv\n",
      "\n",
      "🎉 All datasets cleaned and saved successfully!\n"
     ]
    }
   ],
   "source": [
    "def main():\n",
    "    clean_datasets()\n",
    "\n",
    "if __name__ == \"__main__\":\n",
    "    main()"
   ]
  },
  {
   "cell_type": "code",
   "execution_count": null,
   "metadata": {},
   "outputs": [],
   "source": []
  }
 ],
 "metadata": {
  "kernelspec": {
   "display_name": "venv",
   "language": "python",
   "name": "python3"
  },
  "language_info": {
   "codemirror_mode": {
    "name": "ipython",
    "version": 3
   },
   "file_extension": ".py",
   "mimetype": "text/x-python",
   "name": "python",
   "nbconvert_exporter": "python",
   "pygments_lexer": "ipython3",
   "version": "3.12.4"
  }
 },
 "nbformat": 4,
 "nbformat_minor": 2
}
